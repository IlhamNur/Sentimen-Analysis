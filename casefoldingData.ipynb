{
 "cells": [
  {
   "cell_type": "code",
   "execution_count": 1,
   "metadata": {},
   "outputs": [],
   "source": [
    "import pandas as pd\n",
    "import re"
   ]
  },
  {
   "cell_type": "code",
   "execution_count": 2,
   "metadata": {},
   "outputs": [],
   "source": [
    "# Load the dataset\n",
    "df = pd.read_csv('cleaned_dataset.csv')"
   ]
  },
  {
   "cell_type": "code",
   "execution_count": 3,
   "metadata": {},
   "outputs": [],
   "source": [
    "def cf_text(text):\n",
    "    # Case folding: Convert to lowercase\n",
    "    text = text.lower()\n",
    "    return text"
   ]
  },
  {
   "cell_type": "code",
   "execution_count": 4,
   "metadata": {},
   "outputs": [],
   "source": [
    "# Apply cleaning and tokenization to all columns in the dataset\n",
    "df_cf = df.map(lambda x: cf_text(x) if isinstance(x, str) else x)"
   ]
  },
  {
   "cell_type": "code",
   "execution_count": 5,
   "metadata": {},
   "outputs": [],
   "source": [
    "# Save the cleaned and tokenized dataset to a new CSV file\n",
    "df_cf.to_csv('cf_dataset.csv', index=False)"
   ]
  },
  {
   "cell_type": "code",
   "execution_count": 6,
   "metadata": {},
   "outputs": [
    {
     "name": "stdout",
     "output_type": "stream",
     "text": [
      "  sentimen                                              Tweet\n",
      "0        0  aku nang kampus untuk ngopi ketemu wong2 podo ...\n",
      "1        0  askmf aku maba dan ada kating di kampus yang a...\n",
      "2        0  aku ke kampus untuk seminar hasil ketemu wong2...\n",
      "3        0  maksudnya tuh dosen pada ngeganti jam kosong k...\n",
      "4        0  ada kunjungan dari kyunghee university dan dos...\n"
     ]
    }
   ],
   "source": [
    "# Display the cleaned and tokenized dataset\n",
    "print(df_cf.head())"
   ]
  }
 ],
 "metadata": {
  "kernelspec": {
   "display_name": "Python 3",
   "language": "python",
   "name": "python3"
  },
  "language_info": {
   "codemirror_mode": {
    "name": "ipython",
    "version": 3
   },
   "file_extension": ".py",
   "mimetype": "text/x-python",
   "name": "python",
   "nbconvert_exporter": "python",
   "pygments_lexer": "ipython3",
   "version": "3.12.8"
  }
 },
 "nbformat": 4,
 "nbformat_minor": 2
}
