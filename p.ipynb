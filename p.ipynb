{
 "cells": [
  {
   "cell_type": "code",
   "execution_count": 1,
   "metadata": {},
   "outputs": [
    {
     "name": "stdout",
     "output_type": "stream",
     "text": [
      "Synonym replacement completed. Processed tweets saved to 'processed_tweets.csv'.\n"
     ]
    }
   ],
   "source": [
    "import pandas as pd\n",
    "import ast\n",
    "\n",
    "# Load dataset and synonym dictionary\n",
    "tweets_df = pd.read_csv('stemmed_dataset.csv')\n",
    "synonym_df = pd.read_csv('colloquial-indonesian-lexicon.csv')\n",
    "\n",
    "# Create a dictionary from the synonym list\n",
    "synonym_dict = dict(zip(synonym_df['slang'], synonym_df['formal']))\n",
    "\n",
    "# Function to replace words with their synonyms\n",
    "def replace_with_synonyms(words, synonym_dict):\n",
    "    return [synonym_dict.get(word, word) for word in words]\n",
    "\n",
    "# Process each tweet\n",
    "processed_tweets = []\n",
    "for tweet in tweets_df['Tweet']:\n",
    "    # Convert string representation of list to actual list\n",
    "    words = ast.literal_eval(tweet)\n",
    "    # Replace words using the synonym dictionary\n",
    "    updated_words = replace_with_synonyms(words, synonym_dict)\n",
    "    processed_tweets.append(updated_words)\n",
    "\n",
    "# Update the existing column with processed tweets\n",
    "tweets_df['Tweet'] = [str(tweet) for tweet in processed_tweets]\n",
    "\n",
    "# Save the updated DataFrame to a new CSV file\n",
    "tweets_df.to_csv('processed_tweets.csv', index=False)\n",
    "\n",
    "print(\"Synonym replacement completed. Processed tweets saved to 'processed_tweets.csv'.\")\n"
   ]
  }
 ],
 "metadata": {
  "kernelspec": {
   "display_name": "Python 3",
   "language": "python",
   "name": "python3"
  },
  "language_info": {
   "codemirror_mode": {
    "name": "ipython",
    "version": 3
   },
   "file_extension": ".py",
   "mimetype": "text/x-python",
   "name": "python",
   "nbconvert_exporter": "python",
   "pygments_lexer": "ipython3",
   "version": "3.12.8"
  }
 },
 "nbformat": 4,
 "nbformat_minor": 2
}
