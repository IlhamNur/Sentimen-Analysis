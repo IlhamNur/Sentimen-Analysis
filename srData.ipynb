{
 "cells": [
  {
   "cell_type": "code",
   "execution_count": 52,
   "metadata": {},
   "outputs": [],
   "source": [
    "import pandas as pd\n",
    "import ast"
   ]
  },
  {
   "cell_type": "code",
   "execution_count": 53,
   "metadata": {},
   "outputs": [],
   "source": [
    "# Load the dataset\n",
    "df = pd.read_csv('tokenized_dataset.csv')"
   ]
  },
  {
   "cell_type": "code",
   "execution_count": 54,
   "metadata": {},
   "outputs": [],
   "source": [
    "# Load stopwords from external files\n",
    "with open('id.stopwords.02.01.2016.txt', 'r', encoding='utf-8') as file:\n",
    "    stopwords1 = set(file.read().splitlines())\n",
    "with open('stopwords-en.txt', 'r', encoding='utf-8') as file:\n",
    "    stopwords2 = set(file.read().splitlines())"
   ]
  },
  {
   "cell_type": "code",
   "execution_count": 55,
   "metadata": {},
   "outputs": [],
   "source": [
    "# Combine all stopwords\n",
    "stopwords = stopwords1.union(stopwords2)"
   ]
  },
  {
   "cell_type": "code",
   "execution_count": 56,
   "metadata": {},
   "outputs": [],
   "source": [
    "def remove_stopwords(tokens):\n",
    "    # Convert string list to actual Python list\n",
    "    tokens = ast.literal_eval(tokens)\n",
    "    # Filter out stopwords\n",
    "    return [token for token in tokens if token not in stopwords]"
   ]
  },
  {
   "cell_type": "code",
   "execution_count": 57,
   "metadata": {},
   "outputs": [],
   "source": [
    "df_sr = df.map(lambda x: remove_stopwords(x) if isinstance(x, str) else x)"
   ]
  },
  {
   "cell_type": "code",
   "execution_count": 58,
   "metadata": {},
   "outputs": [],
   "source": [
    "# Save the stopword-removed dataset to a new CSV file\n",
    "df_sr.to_csv('sr_dataset.csv', index=False)"
   ]
  },
  {
   "cell_type": "code",
   "execution_count": 59,
   "metadata": {},
   "outputs": [
    {
     "name": "stdout",
     "output_type": "stream",
     "text": [
      "  sentimen                                              Tweet\n",
      "0      [0]  [nang, kampus, ngopi, ketemu, wong2, podo, kab...\n",
      "1      [0]  [askmf, maba, kating, kampus, asli, jepang, hi...\n",
      "2      [0]  [kampus, seminar, hasil, ketemu, wong2, podo, ...\n",
      "3      [0]  [maksudnya, tuh, dosen, ngeganti, jam, kosong,...\n",
      "4      [0]  [kunjungan, kyunghee, university, dosennya, ta...\n"
     ]
    }
   ],
   "source": [
    "# Display the cleaned, tokenized, and stopword-removed dataset\n",
    "print(df_sr.head())"
   ]
  }
 ],
 "metadata": {
  "kernelspec": {
   "display_name": "Python 3",
   "language": "python",
   "name": "python3"
  },
  "language_info": {
   "codemirror_mode": {
    "name": "ipython",
    "version": 3
   },
   "file_extension": ".py",
   "mimetype": "text/x-python",
   "name": "python",
   "nbconvert_exporter": "python",
   "pygments_lexer": "ipython3",
   "version": "3.12.8"
  }
 },
 "nbformat": 4,
 "nbformat_minor": 2
}
