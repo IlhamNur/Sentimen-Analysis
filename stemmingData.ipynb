{
 "cells": [
  {
   "cell_type": "code",
   "execution_count": 55,
   "metadata": {},
   "outputs": [],
   "source": [
    "import pandas as pd\n",
    "import ast\n",
    "from Sastrawi.Stemmer.StemmerFactory import StemmerFactory\n",
    "from nltk.stem.snowball import SnowballStemmer\n",
    "from nltk.corpus import words"
   ]
  },
  {
   "cell_type": "code",
   "execution_count": 56,
   "metadata": {},
   "outputs": [],
   "source": [
    "# Load the dataset\n",
    "df = pd.read_csv('sr_dataset.csv')"
   ]
  },
  {
   "cell_type": "code",
   "execution_count": 57,
   "metadata": {},
   "outputs": [],
   "source": [
    "# Create a stemmer\n",
    "factory = StemmerFactory()\n",
    "stemmer = factory.create_stemmer()"
   ]
  },
  {
   "cell_type": "code",
   "execution_count": 58,
   "metadata": {},
   "outputs": [],
   "source": [
    "# Initialize SnowballStemmer for English\n",
    "nltk_stemmer = SnowballStemmer(\"english\")"
   ]
  },
  {
   "cell_type": "code",
   "execution_count": 59,
   "metadata": {},
   "outputs": [],
   "source": [
    "# Load English words corpus\n",
    "english_words = set(words.words())"
   ]
  },
  {
   "cell_type": "code",
   "execution_count": 60,
   "metadata": {},
   "outputs": [],
   "source": [
    "# Function to check if a word is English using nltk\n",
    "def is_english_word(word):\n",
    "    # Check if the word exists in the English dictionary\n",
    "    return word.lower() in english_words"
   ]
  },
  {
   "cell_type": "code",
   "execution_count": 61,
   "metadata": {},
   "outputs": [],
   "source": [
    "def stemming(datas):\n",
    "    # Convert string list to actual Python list\n",
    "    datas = ast.literal_eval(datas)\n",
    "    \n",
    "    # Stem each data: use Sastrawi for non-English words and NLTK for English words\n",
    "    stemmed_datas = [\n",
    "        nltk_stemmer.stem(data) if is_english_word(data) else stemmer.stem(data)\n",
    "        for data in datas\n",
    "    ]\n",
    "    \n",
    "    return stemmed_datas"
   ]
  },
  {
   "cell_type": "code",
   "execution_count": 62,
   "metadata": {},
   "outputs": [],
   "source": [
    "df_stemming = df.map(lambda x: stemming(x) if isinstance(x, str) else x)"
   ]
  },
  {
   "cell_type": "code",
   "execution_count": 63,
   "metadata": {},
   "outputs": [],
   "source": [
    "# Save the stemming dataset to a new CSV file\n",
    "df_stemming.to_csv('stemming_dataset.csv', index=False)"
   ]
  },
  {
   "cell_type": "code",
   "execution_count": 64,
   "metadata": {},
   "outputs": [
    {
     "name": "stdout",
     "output_type": "stream",
     "text": [
      "  sentimen                                              Tweet\n",
      "0      [0]  [nang, kampus, ngopi, ketemu, wong2, podo, kab...\n",
      "1      [0]  [askmf, maba, kating, kampus, asli, jepang, hi...\n",
      "2      [0]  [kampus, seminar, hasil, ketemu, wong2, podo, ...\n",
      "3      [0]  [maksud, tuh, dosen, ngeganti, jam, kosong, ja...\n",
      "4      [0]  [kunjung, kyunghee, univers, dosen, tau, nuest...\n"
     ]
    }
   ],
   "source": [
    "# Display the stemming dataset\n",
    "print(df_stemming.head())"
   ]
  }
 ],
 "metadata": {
  "kernelspec": {
   "display_name": "Python 3",
   "language": "python",
   "name": "python3"
  },
  "language_info": {
   "codemirror_mode": {
    "name": "ipython",
    "version": 3
   },
   "file_extension": ".py",
   "mimetype": "text/x-python",
   "name": "python",
   "nbconvert_exporter": "python",
   "pygments_lexer": "ipython3",
   "version": "3.12.8"
  }
 },
 "nbformat": 4,
 "nbformat_minor": 2
}
