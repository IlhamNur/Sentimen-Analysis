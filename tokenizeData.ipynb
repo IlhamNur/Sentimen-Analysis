{
 "cells": [
  {
   "cell_type": "code",
   "execution_count": 9,
   "metadata": {},
   "outputs": [],
   "source": [
    "import pandas as pd\n",
    "import re"
   ]
  },
  {
   "cell_type": "code",
   "execution_count": 10,
   "metadata": {},
   "outputs": [],
   "source": [
    "# Load the dataset\n",
    "df = pd.read_csv('cf_dataset.csv')"
   ]
  },
  {
   "cell_type": "code",
   "execution_count": 11,
   "metadata": {},
   "outputs": [],
   "source": [
    "def tokenize_text(text):\n",
    "    tokens = []\n",
    "    token = \"\"\n",
    "    separators = {'.', ',', ' ', '\\n', '\\t', ';', ':', '!', '?', '\"', '\\'', '(', ')', '[', ']', '{', '}'}\n",
    "    for char in text:\n",
    "        if char in separators:\n",
    "            if token:\n",
    "                tokens.append(token)\n",
    "                token = \"\"\n",
    "        else:\n",
    "            token += char\n",
    "    if token:  # Add the last token if it exists\n",
    "        tokens.append(token)\n",
    "    return tokens"
   ]
  },
  {
   "cell_type": "code",
   "execution_count": 12,
   "metadata": {},
   "outputs": [],
   "source": [
    "df_tokenized = df.map(lambda x: tokenize_text(x) if isinstance(x, str) else x)"
   ]
  },
  {
   "cell_type": "code",
   "execution_count": 13,
   "metadata": {},
   "outputs": [],
   "source": [
    "# Save the tokenized and tokenized dataset to a new CSV file\n",
    "df_tokenized.to_csv('tokenized_dataset.csv', index=False)"
   ]
  },
  {
   "cell_type": "code",
   "execution_count": 14,
   "metadata": {},
   "outputs": [
    {
     "name": "stdout",
     "output_type": "stream",
     "text": [
      "  sentimen                                              Tweet\n",
      "0      [0]  [aku, nang, kampus, untuk, ngopi, ketemu, wong...\n",
      "1      [0]  [askmf, aku, maba, dan, ada, kating, di, kampu...\n",
      "2      [0]  [aku, ke, kampus, untuk, seminar, hasil, ketem...\n",
      "3      [0]  [maksudnya, tuh, dosen, pada, ngeganti, jam, k...\n",
      "4      [0]  [ada, kunjungan, dari, kyunghee, university, d...\n"
     ]
    }
   ],
   "source": [
    "# Display the tokenized dataset\n",
    "print(df_tokenized.head())"
   ]
  }
 ],
 "metadata": {
  "kernelspec": {
   "display_name": "Python 3",
   "language": "python",
   "name": "python3"
  },
  "language_info": {
   "codemirror_mode": {
    "name": "ipython",
    "version": 3
   },
   "file_extension": ".py",
   "mimetype": "text/x-python",
   "name": "python",
   "nbconvert_exporter": "python",
   "pygments_lexer": "ipython3",
   "version": "3.12.8"
  }
 },
 "nbformat": 4,
 "nbformat_minor": 2
}
